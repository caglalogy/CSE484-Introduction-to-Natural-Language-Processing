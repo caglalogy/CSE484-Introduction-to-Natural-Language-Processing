{
 "cells": [
  {
   "cell_type": "markdown",
   "id": "125251da",
   "metadata": {},
   "source": [
    "# CSE 654/ 484Fall 2022 - HW3 "
   ]
  },
  {
   "cell_type": "code",
   "execution_count": 151,
   "id": "6908b03e",
   "metadata": {},
   "outputs": [],
   "source": [
    "# Packages"
   ]
  },
  {
   "cell_type": "code",
   "execution_count": 152,
   "id": "8753a1be",
   "metadata": {},
   "outputs": [],
   "source": [
    "import json\n",
    "import sys\n",
    "from gensim.models import Word2Vec\n",
    "from sklearn.manifold import TSNE\n",
    "import seaborn as sns\n",
    "sns.set_style(\"darkgrid\")\n",
    "\n",
    "from sklearn.decomposition import PCA\n",
    "from sklearn.manifold import TSNE\n",
    "import pandas as pd\n",
    "import numpy as np\n",
    "import matplotlib.pyplot as plt"
   ]
  },
  {
   "cell_type": "markdown",
   "id": "fe71c2e3",
   "metadata": {},
   "source": [
    "### - Reading list of syllables and syllables-test from file. Saved on the file on previous homework. "
   ]
  },
  {
   "cell_type": "code",
   "execution_count": 153,
   "id": "b8aa6d1a",
   "metadata": {},
   "outputs": [],
   "source": [
    "# Open the file for reading\n",
    "with open('syllables.txt', 'r') as f:\n",
    "    # Read the contents of the file into a string\n",
    "    s = f.read()\n",
    "    # Convert the string to a list\n",
    "    syllables = json.loads(s)"
   ]
  },
  {
   "cell_type": "code",
   "execution_count": 154,
   "id": "1084b0e1",
   "metadata": {},
   "outputs": [
    {
     "data": {
      "text/plain": [
       "['cen', 'giz', ' ', 'han', '\\n', 'cen', 'giz', ' ', 'han', ' ']"
      ]
     },
     "execution_count": 154,
     "metadata": {},
     "output_type": "execute_result"
    }
   ],
   "source": [
    "syllables[:10]"
   ]
  },
  {
   "cell_type": "code",
   "execution_count": 155,
   "id": "d809efc0",
   "metadata": {},
   "outputs": [],
   "source": [
    "# Open the file for reading\n",
    "with open('syllables-test.txt', 'r') as f:\n",
    "    # Read the contents of the file into a string\n",
    "    s = f.read()\n",
    "    # Convert the string to a list\n",
    "    syllables_test = json.loads(s)"
   ]
  },
  {
   "cell_type": "code",
   "execution_count": 156,
   "id": "d657507a",
   "metadata": {},
   "outputs": [
    {
     "data": {
      "text/plain": [
       "[' ', 'bir', ' ', 'gun', ' ', 'e', 'der', ' ', 've', ' ']"
      ]
     },
     "execution_count": 156,
     "metadata": {},
     "output_type": "execute_result"
    }
   ],
   "source": [
    "syllables_test[:10]"
   ]
  },
  {
   "cell_type": "markdown",
   "id": "0b8f5704",
   "metadata": {},
   "source": [
    "Both syllables and syllables-test is saved as in list form. "
   ]
  },
  {
   "cell_type": "code",
   "execution_count": 157,
   "id": "58bf3be5",
   "metadata": {
    "scrolled": true
   },
   "outputs": [
    {
     "name": "stdout",
     "output_type": "stream",
     "text": [
      "Requirement already satisfied: gensim in /Users/cagla/opt/anaconda3/lib/python3.9/site-packages (4.1.2)\n",
      "Requirement already satisfied: scipy>=0.18.1 in /Users/cagla/opt/anaconda3/lib/python3.9/site-packages (from gensim) (1.9.1)\n",
      "Requirement already satisfied: numpy>=1.17.0 in /Users/cagla/opt/anaconda3/lib/python3.9/site-packages (from gensim) (1.21.5)\n",
      "Requirement already satisfied: smart-open>=1.8.1 in /Users/cagla/opt/anaconda3/lib/python3.9/site-packages (from gensim) (5.2.1)\n"
     ]
    }
   ],
   "source": [
    "!{sys.executable} -m pip install gensim"
   ]
  },
  {
   "cell_type": "markdown",
   "id": "169d07c9",
   "metadata": {},
   "source": [
    "## Vectorization of the syllables in unigram"
   ]
  },
  {
   "cell_type": "code",
   "execution_count": 159,
   "id": "644af5f3",
   "metadata": {},
   "outputs": [],
   "source": [
    "tokenized = [syllables]"
   ]
  },
  {
   "cell_type": "code",
   "execution_count": 160,
   "id": "78cc14e2",
   "metadata": {},
   "outputs": [],
   "source": [
    "model = Word2Vec(tokenized, vector_size=100, window=5, min_count=1, workers=4, sg=0)"
   ]
  },
  {
   "cell_type": "code",
   "execution_count": 161,
   "id": "31cec25c",
   "metadata": {},
   "outputs": [],
   "source": [
    "model.build_vocab(tokenized, progress_per=1000)"
   ]
  },
  {
   "cell_type": "code",
   "execution_count": 162,
   "id": "7b9de142",
   "metadata": {},
   "outputs": [
    {
     "data": {
      "text/plain": [
       "(1, 5)"
      ]
     },
     "execution_count": 162,
     "metadata": {},
     "output_type": "execute_result"
    }
   ],
   "source": [
    "model.corpus_count, model.epochs"
   ]
  },
  {
   "cell_type": "code",
   "execution_count": 165,
   "id": "f27badda",
   "metadata": {
    "scrolled": true
   },
   "outputs": [
    {
     "data": {
      "text/plain": [
       "(50000, 7637920)"
      ]
     },
     "execution_count": 165,
     "metadata": {},
     "output_type": "execute_result"
    }
   ],
   "source": [
    "model.train(tokenized, total_examples=model.corpus_count, epochs=model.epochs)"
   ]
  },
  {
   "cell_type": "code",
   "execution_count": 166,
   "id": "ad9772bb",
   "metadata": {},
   "outputs": [],
   "source": [
    "model.save(\"./word2vec_nlp_hw3.model\")"
   ]
  },
  {
   "cell_type": "code",
   "execution_count": 167,
   "id": "fe41ab96",
   "metadata": {},
   "outputs": [],
   "source": [
    "# Experiments"
   ]
  },
  {
   "cell_type": "code",
   "execution_count": 168,
   "id": "67ce00d2",
   "metadata": {},
   "outputs": [
    {
     "data": {
      "text/plain": [
       "0.9989365"
      ]
     },
     "execution_count": 168,
     "metadata": {},
     "output_type": "execute_result"
    }
   ],
   "source": [
    "model.wv.similarity(\"cen\", \"giz\")"
   ]
  },
  {
   "cell_type": "code",
   "execution_count": 169,
   "id": "09413e01",
   "metadata": {},
   "outputs": [
    {
     "data": {
      "text/plain": [
       "0.99791956"
      ]
     },
     "execution_count": 169,
     "metadata": {},
     "output_type": "execute_result"
    }
   ],
   "source": [
    "model.wv.similarity(\"cen\", \"da\")"
   ]
  },
  {
   "cell_type": "code",
   "execution_count": 170,
   "id": "589f8d4d",
   "metadata": {},
   "outputs": [
    {
     "data": {
      "text/plain": [
       "0.9973073"
      ]
     },
     "execution_count": 170,
     "metadata": {},
     "output_type": "execute_result"
    }
   ],
   "source": [
    "model.wv.similarity(\"cen\", \"la\")"
   ]
  },
  {
   "cell_type": "code",
   "execution_count": 171,
   "id": "713e1179",
   "metadata": {},
   "outputs": [
    {
     "data": {
      "text/plain": [
       "0.994846"
      ]
     },
     "execution_count": 171,
     "metadata": {},
     "output_type": "execute_result"
    }
   ],
   "source": [
    "model.wv.similarity(\"is\", \"tih\")"
   ]
  },
  {
   "cell_type": "code",
   "execution_count": 172,
   "id": "f070e2fc",
   "metadata": {},
   "outputs": [
    {
     "data": {
      "text/plain": [
       "0.99625134"
      ]
     },
     "execution_count": 172,
     "metadata": {},
     "output_type": "execute_result"
    }
   ],
   "source": [
    "model.wv.similarity(\"cen\", \"is\")"
   ]
  },
  {
   "cell_type": "code",
   "execution_count": 173,
   "id": "94cb3b4f",
   "metadata": {},
   "outputs": [
    {
     "data": {
      "text/plain": [
       "'mu'"
      ]
     },
     "execution_count": 173,
     "metadata": {},
     "output_type": "execute_result"
    }
   ],
   "source": [
    "model.wv.doesnt_match(['te', 'mu', 'cen', 'de'])"
   ]
  },
  {
   "cell_type": "code",
   "execution_count": 174,
   "id": "188839e6",
   "metadata": {},
   "outputs": [
    {
     "data": {
      "text/plain": [
       "[('cin', 0.9751501679420471),\n",
       " ('in', 0.9512126445770264),\n",
       " ('bor', 0.9482771754264832),\n",
       " ('is', 0.9475966691970825),\n",
       " ('te', 0.9464403390884399),\n",
       " ('', 0.9421329498291016),\n",
       " ('mek', 0.941533625125885),\n",
       " ('mel', 0.941185712814331),\n",
       " ('best', 0.9401475191116333),\n",
       " ('et', 0.9393740892410278)]"
      ]
     },
     "execution_count": 174,
     "metadata": {},
     "output_type": "execute_result"
    }
   ],
   "source": [
    "model.wv.similar_by_word('mu')"
   ]
  },
  {
   "cell_type": "markdown",
   "id": "cbaa6eae",
   "metadata": {},
   "source": [
    "## Visualization"
   ]
  },
  {
   "cell_type": "code",
   "execution_count": 116,
   "id": "6bbfb67d",
   "metadata": {},
   "outputs": [],
   "source": [
    "def tsnescatterplot(model, word, list_names):\n",
    "    \"\"\" Plot in seaborn the results from the t-SNE dimensionality reduction algorithm of the vectors of a query word,\n",
    "    its list of most similar words, and a list of words.\n",
    "    \"\"\"\n",
    "    arrays = np.empty((0, 100), dtype='f')\n",
    "    word_labels = [word]\n",
    "    color_list  = ['red']\n",
    "\n",
    "    # adds the vector of the query word\n",
    "    arrays = np.append(arrays, model.wv.__getitem__([word]), axis=0)\n",
    "    \n",
    "    # gets list of most similar words\n",
    "    close_words = model.wv.most_similar([word])\n",
    "    \n",
    "    # adds the vector for each of the closest words to the array\n",
    "    for wrd_score in close_words:\n",
    "        wrd_vector = model.wv.__getitem__([wrd_score[0]])\n",
    "        word_labels.append(wrd_score[0])\n",
    "        color_list.append('blue')\n",
    "        arrays = np.append(arrays, wrd_vector, axis=0)\n",
    "    \n",
    "    # adds the vector for each of the words from list_names to the array\n",
    "    for wrd in list_names:\n",
    "        wrd_vector = model.wv.__getitem__([wrd])\n",
    "        word_labels.append(wrd)\n",
    "        color_list.append('green')\n",
    "        arrays = np.append(arrays, wrd_vector, axis=0)\n",
    "        \n",
    "    # Reduces the dimensionality from 300 to 50 dimensions with PCA\n",
    "    reduc = PCA(n_components=15).fit_transform(arrays)\n",
    "    \n",
    "    # Finds t-SNE coordinates for 2 dimensions\n",
    "    np.set_printoptions(suppress=True)\n",
    "    \n",
    "    Y = TSNE(n_components=2, random_state=0, perplexity=15).fit_transform(reduc)\n",
    "    \n",
    "    # Sets everything up to plot\n",
    "    df = pd.DataFrame({'x': [x for x in Y[:, 0]],\n",
    "                       'y': [y for y in Y[:, 1]],\n",
    "                       'words': word_labels,\n",
    "                       'color': color_list})\n",
    "    \n",
    "    fig, _ = plt.subplots()\n",
    "    fig.set_size_inches(9, 9)\n",
    "    \n",
    "    # Basic plot\n",
    "    p1 = sns.regplot(data=df,\n",
    "                     x=\"x\",\n",
    "                     y=\"y\",\n",
    "                     fit_reg=False,\n",
    "                     marker=\"o\",\n",
    "                     scatter_kws={'s': 40,\n",
    "                                  'facecolors': df['color']\n",
    "                                 }\n",
    "                    )\n",
    "    \n",
    "    # Adds annotations one by one with a loop\n",
    "    for line in range(0, df.shape[0]):\n",
    "         p1.text(df[\"x\"][line],\n",
    "                 df['y'][line],\n",
    "                 '  ' + df[\"words\"][line].title(),\n",
    "                 horizontalalignment='left',\n",
    "                 verticalalignment='bottom', size='medium',\n",
    "                 color=df['color'][line],\n",
    "                 weight='normal'\n",
    "                ).set_size(15)\n",
    "\n",
    "    \n",
    "    plt.xlim(Y[:, 0].min()-50, Y[:, 0].max()+50)\n",
    "    plt.ylim(Y[:, 1].min()-50, Y[:, 1].max()+50)\n",
    "            \n",
    "    plt.title('t-SNE visualization for {}'.format(word.title()))"
   ]
  },
  {
   "cell_type": "code",
   "execution_count": 117,
   "id": "af2e97af",
   "metadata": {
    "scrolled": false
   },
   "outputs": [
    {
     "name": "stderr",
     "output_type": "stream",
     "text": [
      "/Users/cagla/opt/anaconda3/lib/python3.9/site-packages/sklearn/manifold/_t_sne.py:780: FutureWarning: The default initialization in TSNE will change from 'random' to 'pca' in 1.2.\n",
      "  warnings.warn(\n",
      "/Users/cagla/opt/anaconda3/lib/python3.9/site-packages/sklearn/manifold/_t_sne.py:790: FutureWarning: The default learning rate in TSNE will change from 200.0 to 'auto' in 1.2.\n",
      "  warnings.warn(\n"
     ]
    },
    {
     "data": {
      "image/png": "[encoded data removed]",
      "text/plain": [
       "<Figure size 900x900 with 1 Axes>"
      ]
     },
     "metadata": {},
     "output_type": "display_data"
    }
   ],
   "source": [
    "tsnescatterplot(model, 'cen', ['gis', 'han', 'da', 'la', 'de', 'is', 'tih', 'ba'])"
   ]
  },
  {
   "cell_type": "code",
   "execution_count": 118,
   "id": "0d13fc0a",
   "metadata": {},
   "outputs": [
    {
     "name": "stdout",
     "output_type": "stream",
     "text": [
      "['cengiz', 'giz ', ' han', 'han\\n', '\\ncen', 'cengiz', 'giz ', ' han', 'han ', ' his', 'his ', ' khan', 'khan ', ' gis', 'gis ', ' ha', 'haan', 'an ', ' ya', 'ya ', ' da', 'da ', ' do', 'dogum', 'gum ', ' a', 'adiy', 'diyla', 'la ', ' te', 'temu', 'mucin', 'cin ', ' an', 'anla', 'lami', 'mi ', ' de', 'demir', 'mirci', 'ci ', ' mo', 'mogol', 'golca', 'ca ', ' ', ' ', ' ', ' ', ' ya', 'ya ', ' da', 'da ', ' ten', 'tengiz', 'giz ', ' an', 'anla', 'lami', 'mi ', ' de', 'deniz', 'niz ', '  ', ' d', 'd ', ' ', ' ', ' –', '– ', ' o', 'o ', ' ', ' ', ' a', 'agus', 'gustos', 'tos ', ' ', ' ', ' mo', 'mogol', 'gol ', ' ko', 'komu', 'mutan', 'tan ', ' hu', 'hukum', 'kumdar', 'dar ', ' ve', 've ', ' mo', 'mogol', 'gol ', ' i', 'ira', 'rator', 'torlu', 'lugu', 'gunun', 'nun ', ' ku', 'kuru', 'rucu', 'cusu', 'sudur', 'dur ', ' cen', 'cengiz', 'giz ', ' han', 'han ', ' ', ' ', ' yuz', 'yuzyi', 'yilin', 'lin ', ' ba', 'basin', 'sinda', 'da ', ' or', 'orta', 'ta ', ' as', 'asya', 'yada', 'daki', 'ki ', ' tum', 'tum ', ' go', 'goce', 'cebe', 'be ', ' boz', 'bozkir', 'kir ', ' ka', 'kavim', 'vimle', 'leri', 'rini', 'ni ', ' bir', 'birles', 'lesti', 'tire', 'rerek', 'rek ', ' bir', 'bir ', ' u', 'ulus', 'lus ', ' ha', 'hali', 'line', 'ne ', ' ge', 'getir', 'tirdi', 'di ', ' ve', 've ', ' o', 'o ', ' u', 'ulu', 'lusu', 'su ', ' mo', 'mogol', 'gol ', ' si', 'siya', 'yasi', 'si ', ' kim', 'kimli', 'ligi', 'gi ', ' ca', 'cati', 'tisi', 'si ', ' al', 'altin', 'tinda', 'da ', ' top', 'topla', 'ladi', 'di ', ' dun', 'dunya', 'ya ', ' ta', 'tari', 'rihi', 'hinin', 'nin ', ' en', 'en ', ' bu', 'buyuk', 'yuk ', ' as', 'aske', 'keri', 'ri ', ' de', 'deha', 'hala', 'larin', 'rindan', 'dan ', ' bi', 'biri', 'ri ', ' o', 'ola', 'larak', 'rak ', ' ka', 'kabul', 'bul ', ' e', 'edi', 'dilen', 'len ', ' cen', 'cengiz', 'giz ', ' han', 'han ', ' hu', 'hukum', 'kumdar', 'darli', 'ligi', 'gi ', ' do', 'done', 'nemin', 'minde', 'de ', ' ', '', ' ', ' a', 'ara', 'rasin', 'sinda', 'da ', ' ku', 'kuzey', 'zey ', ' cin', 'cinde', 'deki', 'ki ', ' ba', 'bati', 'ti ', ' xi', 'xia', 'a ', ' ve', 've ', ' jin', 'jin ', ' ha', 'hane', 'neda', 'dani', 'ni ', ' tur', 'turkis', 'kistan', 'tanda', 'daki', 'ki ', ' ka', 'kara', 'ra ', ' hi', 'hitay', 'tay ', ' ma', 'mave', 'vera', 'raun', 'unne', 'nehir', 'hir ', ' ha', 'ha ', ' ho', 'hora', 'rasan', 'san ', ' ve', 've ', ' i', 'iran', 'randa', 'daki', 'ki ', ' har', 'harzem', 'zemsah', 'sahlar', 'lar ', ' i', 'ile', 'le ', ' kaf', 'kafkas', 'kasya', 'yada', 'da ', ' gur', 'gurcu', 'culer', 'ler ', ' dest', 'desti', 'i ', ' kip', 'kipcak', 'cakta', 'taki', 'ki ', ' rus', 'rus ', ' lik', 'likle', 'leri', 'ri ', ' ve', 've ', ' kip', 'kipcak', 'caklar', 'lar ', ' i', 'ile', 'le ', ' i', 'idil', 'dil ', ' bul', 'bulgar', 'garla', 'lari', 'ri ', ' u', 'uze', 'zeri', 'rine', 'ne ', ' ger', 'gercek', 'cekles', 'lesti', 'tiri', 'rilen', 'len ', ' se', 'sefer', 'ferler', 'ler ', ' so', 'sonu', 'nucun', 'cunda', 'da ', ' pa', 'pasi', 'sifik', 'fik ', ' ok', 'okya', 'yanu', 'nusu', 'sundan', 'ndan ', ' ha', 'hazar', 'zar ', ' de', 'deni', 'nizi', 'zi', 'ne', 'ne ', ' ve', 've ', ' ka', 'kara', 'rade', 'deniz', 'nizin', 'in ', ' ku', 'kuze', 'zeyi', 'yine', 'ne ', ' ka', 'kadar', 'dar ', ' u', 'uza', 'zanan', 'nan ', ' bir', 'bir ', ' im', 'impa', 'para', 'rator', 'torluk', 'luk ', ' kur', 'kurdu', 'du\\n', '\\nboz', 'bozkir', 'kir ', ' ge', 'gele', 'lene', 'negin', 'ginden', 'den ', ' ge', 'gelen', 'len ', ' on', 'onlu', 'lu ', ' tes', 'teski', 'kila', 'lati', 'ti ', ' kul', 'kulla', 'lana', 'narak', 'rak ', ' me', 'meri', 'ritok', 'tokra', 'ratik', 'tik ', ' li', 'lika', 'kata', 'ta ', ' bag', 'bagli', 'li ', ' bir', 'bir ', ' or', 'ordu', 'du ', ' mey', 'meyda', 'dana', 'na ', ' ge', 'geti', 'tiren', 'ren ', ' cen', 'cengiz', 'giz ', ' han', 'han', 'in', 'in ', ' bu', 'buyuk', 'yuk ', ' bir', 'bir ', ' as', 'asker', 'ker ', ' o', 'ola', 'larak']\n"
     ]
    }
   ],
   "source": [
    "def create_bigrams(words):\n",
    "    bigrams = []\n",
    "    for i in range(len(words)-1):\n",
    "        bigram = (words[i], words[i+1])\n",
    "        bigrams.append(\"\".join(list(bigram)))\n",
    "    return bigrams\n",
    "bigrams = create_bigrams(syllables)\n",
    "print(bigrams[:500]) "
   ]
  },
  {
   "cell_type": "code",
   "execution_count": 119,
   "id": "6c025262",
   "metadata": {},
   "outputs": [],
   "source": [
    "bigrams_t = [bigrams]"
   ]
  },
  {
   "cell_type": "code",
   "execution_count": 120,
   "id": "3ce714bf",
   "metadata": {},
   "outputs": [],
   "source": [
    "model2 = Word2Vec(bigrams_t, vector_size=100, window=5, min_count=1, workers=4, sg=0)"
   ]
  },
  {
   "cell_type": "code",
   "execution_count": 121,
   "id": "a647883b",
   "metadata": {},
   "outputs": [],
   "source": [
    "model2.build_vocab(bigrams_t, progress_per=1000)"
   ]
  },
  {
   "cell_type": "code",
   "execution_count": 122,
   "id": "2aac926f",
   "metadata": {},
   "outputs": [
    {
     "data": {
      "text/plain": [
       "(50000, 7637915)"
      ]
     },
     "execution_count": 122,
     "metadata": {},
     "output_type": "execute_result"
    }
   ],
   "source": [
    "model2.train(bigrams_t, total_examples=model2.corpus_count, epochs=model2.epochs)"
   ]
  },
  {
   "cell_type": "code",
   "execution_count": 123,
   "id": "5f1b1fec",
   "metadata": {},
   "outputs": [],
   "source": [
    "model2.save(\"./word2vec_nlp_hw3.model2\")"
   ]
  },
  {
   "cell_type": "code",
   "execution_count": 124,
   "id": "5455b437",
   "metadata": {},
   "outputs": [
    {
     "data": {
      "text/plain": [
       "0.797534"
      ]
     },
     "execution_count": 124,
     "metadata": {},
     "output_type": "execute_result"
    }
   ],
   "source": [
    "model2.wv.similarity(\"impa\", \"rator\")"
   ]
  },
  {
   "cell_type": "code",
   "execution_count": 125,
   "id": "1306da95",
   "metadata": {},
   "outputs": [
    {
     "name": "stderr",
     "output_type": "stream",
     "text": [
      "/Users/cagla/opt/anaconda3/lib/python3.9/site-packages/sklearn/manifold/_t_sne.py:780: FutureWarning: The default initialization in TSNE will change from 'random' to 'pca' in 1.2.\n",
      "  warnings.warn(\n",
      "/Users/cagla/opt/anaconda3/lib/python3.9/site-packages/sklearn/manifold/_t_sne.py:790: FutureWarning: The default learning rate in TSNE will change from 200.0 to 'auto' in 1.2.\n",
      "  warnings.warn(\n"
     ]
    },
    {
     "data": {
      "image/png": "[encoded data removed]",
      "text/plain": [
       "<Figure size 900x900 with 1 Axes>"
      ]
     },
     "metadata": {},
     "output_type": "display_data"
    }
   ],
   "source": [
    "tsnescatterplot(model2, 'cengiz', ['asker', 'deniz', 'narak', ' han', 'kila', 'lene', 'narak', 'impa'])"
   ]
  },
  {
   "cell_type": "code",
   "execution_count": 175,
   "id": "be2458f5",
   "metadata": {},
   "outputs": [
    {
     "data": {
      "text/plain": [
       "[(' ta', 0.9957867860794067),\n",
       " ('si ', 0.9956386685371399),\n",
       " (' ha', 0.9956256151199341),\n",
       " ('di ', 0.9956230521202087),\n",
       " ('ti ', 0.9954684972763062),\n",
       " ('cin ', 0.9954051375389099),\n",
       " (' o', 0.9953967332839966),\n",
       " (' ol', 0.9953184127807617),\n",
       " (' ca', 0.9952512979507446),\n",
       " (' an', 0.9952484369277954)]"
      ]
     },
     "execution_count": 175,
     "metadata": {},
     "output_type": "execute_result"
    }
   ],
   "source": [
    "model2.wv.most_similar(\"cengiz\")"
   ]
  },
  {
   "cell_type": "code",
   "execution_count": 176,
   "id": "f802ee35",
   "metadata": {},
   "outputs": [
    {
     "data": {
      "text/plain": [
       "[(' de', 0.9228073954582214),\n",
       " ('mogol', 0.9209035634994507),\n",
       " (' san', 0.9200536608695984),\n",
       " (' han', 0.9200060367584229),\n",
       " (' o', 0.9198488593101501),\n",
       " ('da ', 0.9194271564483643),\n",
       " ('cin ', 0.9192154407501221),\n",
       " (' te', 0.9191370606422424),\n",
       " ('mucin', 0.918989896774292),\n",
       " ('bir ', 0.9182526469230652)]"
      ]
     },
     "execution_count": 176,
     "metadata": {},
     "output_type": "execute_result"
    }
   ],
   "source": [
    "model2.wv.most_similar(\"deniz\")"
   ]
  },
  {
   "cell_type": "code",
   "execution_count": 177,
   "id": "a5d75d56",
   "metadata": {},
   "outputs": [
    {
     "data": {
      "text/plain": [
       "[(' le', 0.647417426109314),\n",
       " ('adiy', 0.6349949240684509),\n",
       " ('fakat', 0.6343328356742859),\n",
       " ('sefer', 0.6250205039978027),\n",
       " ('mensup', 0.6248916983604431),\n",
       " ('sure', 0.624230146408081),\n",
       " ('linde', 0.6229454278945923),\n",
       " (' yer', 0.6228820085525513),\n",
       " ('kazan', 0.6198706030845642),\n",
       " (' ti', 0.6182495951652527)]"
      ]
     },
     "execution_count": 177,
     "metadata": {},
     "output_type": "execute_result"
    }
   ],
   "source": [
    "model2.wv.most_similar(\"kolu\")"
   ]
  },
  {
   "cell_type": "code",
   "execution_count": 178,
   "id": "7f0619a2",
   "metadata": {},
   "outputs": [
    {
     "data": {
      "text/plain": [
       "[(' mo', 0.9184617400169373),\n",
       " ('mak ', 0.9161664247512817),\n",
       " (' ko', 0.9150940775871277),\n",
       " ('i ', 0.9141795635223389),\n",
       " (' ken', 0.914069652557373),\n",
       " ('ler ', 0.9140181541442871),\n",
       " ('ca ', 0.9138591289520264),\n",
       " (' di', 0.913798451423645),\n",
       " ('bir ', 0.9135225415229797),\n",
       " ('na ', 0.9135101437568665)]"
      ]
     },
     "execution_count": 178,
     "metadata": {},
     "output_type": "execute_result"
    }
   ],
   "source": [
    "model2.wv.most_similar(\"larda\")"
   ]
  },
  {
   "cell_type": "code",
   "execution_count": null,
   "id": "fdaecf49",
   "metadata": {},
   "outputs": [],
   "source": [
    "model2.wv.most_similar(\"\")"
   ]
  },
  {
   "cell_type": "code",
   "execution_count": 126,
   "id": "ce88ccea",
   "metadata": {},
   "outputs": [
    {
     "name": "stdout",
     "output_type": "stream",
     "text": [
      "['cengiz ', 'giz han', ' han\\n', 'han\\ncen', '\\ncengiz', 'cengiz ', 'giz han', ' han ', 'han his', ' his ', 'his khan', ' khan ', 'khan gis', ' gis ', 'gis ha', ' haan', 'haan ', 'an ya', ' ya ', 'ya da', ' da ', 'da do', ' dogum', 'dogum ', 'gum a', ' adiy', 'adiyla', 'diyla ', 'la te', ' temu', 'temucin', 'mucin ', 'cin an', ' anla', 'anlami', 'lami ', 'mi de', ' demir', 'demirci', 'mirci ', 'ci mo', ' mogol', 'mogolca', 'golca ', 'ca ', '  ', ' ', '  ', ' ya', ' ya ', 'ya da', ' da ', 'da ten', ' tengiz', 'tengiz ', 'giz an', ' anla', 'anlami', 'lami ', 'mi de', ' deniz', 'deniz ', 'niz  ', '  d', ' d ', 'd ', '  ', ' –', ' – ', '– o', ' o ', 'o ', '  ', ' a', ' agus', 'agustos', 'gustos ', 'tos ', '  ', ' mo', ' mogol', 'mogol ', 'gol ko', ' komu', 'komutan', 'mutan ', 'tan hu', ' hukum', 'hukumdar', 'kumdar ', 'dar ve', ' ve ', 've mo', ' mogol', 'mogol ', 'gol i', ' ira', 'irator', 'ratorlu', 'torlugu', 'lugunun', 'gunun ', 'nun ku', ' kuru', 'kurucu', 'rucusu', 'cusudur', 'sudur ', 'dur cen', ' cengiz', 'cengiz ', 'giz han', ' han ', 'han ', '  ', ' yuz', ' yuzyi', 'yuzyilin', 'yilin ', 'lin ba', ' basin', 'basinda', 'sinda ', 'da or', ' orta', 'orta ', 'ta as', ' asya', 'asyada', 'yadaki', 'daki ', 'ki tum', ' tum ', 'tum go', ' goce', 'gocebe', 'cebe ', 'be boz', ' bozkir', 'bozkir ', 'kir ka', ' kavim', 'kavimle', 'vimleri', 'lerini', 'rini ', 'ni bir', ' birles', 'birlesti', 'lestire', 'tirerek', 'rerek ', 'rek bir', ' bir ', 'bir u', ' ulus', 'ulus ', 'lus ha', ' hali', 'haline', 'line ', 'ne ge', ' getir', 'getirdi', 'tirdi ', 'di ve', ' ve ', 've o', ' o ', 'o u', ' ulu', 'ulusu', 'lusu ', 'su mo', ' mogol', 'mogol ', 'gol si', ' siya', 'siyasi', 'yasi ', 'si kim', ' kimli', 'kimligi', 'ligi ', 'gi ca', ' cati', 'catisi', 'tisi ', 'si al', ' altin', 'altinda', 'tinda ', 'da top', ' topla', 'topladi', 'ladi ', 'di dun', ' dunya', 'dunya ', 'ya ta', ' tari', 'tarihi', 'rihinin', 'hinin ', 'nin en', ' en ', 'en bu', ' buyuk', 'buyuk ', 'yuk as', ' aske', 'askeri', 'keri ', 'ri de', ' deha', 'dehala', 'halarin', 'larindan', 'rindan ', 'dan bi', ' biri', 'biri ', 'ri o', ' ola', 'olarak', 'larak ', 'rak ka', ' kabul', 'kabul ', 'bul e', ' edi', 'edilen', 'dilen ', 'len cen', ' cengiz', 'cengiz ', 'giz han', ' han ', 'han hu', ' hukum', 'hukumdar', 'kumdarli', 'darligi', 'ligi ', 'gi do', ' done', 'donemin', 'neminde', 'minde ', 'de ', ' ', ' ', ' a', ' ara', 'arasin', 'rasinda', 'sinda ', 'da ku', ' kuzey', 'kuzey ', 'zey cin', ' cinde', 'cindeki', 'deki ', 'ki ba', ' bati', 'bati ', 'ti xi', ' xia', 'xia ', 'a ve', ' ve ', 've jin', ' jin ', 'jin ha', ' hane', 'haneda', 'nedani', 'dani ', 'ni tur', ' turkis', 'turkistan', 'kistanda', 'tandaki', 'daki ', 'ki ka', ' kara', 'kara ', 'ra hi', ' hitay', 'hitay ', 'tay ma', ' mave', 'mavera', 'veraun', 'raunne', 'unnehir', 'nehir ', 'hir ha', ' ha ', 'ha ho', ' hora', 'horasan', 'rasan ', 'san ve', ' ve ', 've i', ' iran', 'iranda', 'randaki', 'daki ', 'ki har', ' harzem', 'harzemsah', 'zemsahlar', 'sahlar ', 'lar i', ' ile', 'ile ', 'le kaf', ' kafkas', 'kafkasya', 'kasyada', 'yada ', 'da gur', ' gurcu', 'gurculer', 'culer ', 'ler dest', ' desti', 'desti ', 'i kip', ' kipcak', 'kipcakta', 'caktaki', 'taki ', 'ki rus', ' rus ', 'rus lik', ' likle', 'likleri', 'leri ', 'ri ve', ' ve ', 've kip', ' kipcak', 'kipcaklar', 'caklar ', 'lar i', ' ile', 'ile ', 'le i', ' idil', 'idil ', 'dil bul', ' bulgar', 'bulgarla', 'garlari', 'lari ', 'ri u', ' uze', 'uzeri', 'zerine', 'rine ', 'ne ger', ' gercek', 'gercekles', 'ceklesti', 'lestiri', 'tirilen', 'rilen ', 'len se', ' sefer', 'seferler', 'ferler ', 'ler so', ' sonu', 'sonucun', 'nucunda', 'cunda ', 'da pa', ' pasi', 'pasifik', 'sifik ', 'fik ok', ' okya', 'okyanu', 'yanusu', 'nusundan', 'sundan ', 'ndan ha', ' hazar', 'hazar ', 'zar de', ' deni', 'denizi', 'nizi', 'zine', 'ne ', 'ne ve', ' ve ', 've ka', ' kara', 'karade', 'radeniz', 'denizin', 'nizin ', 'in ku', ' kuze', 'kuzeyi', 'zeyine', 'yine ', 'ne ka', ' kadar', 'kadar ', 'dar u', ' uza', 'uzanan', 'zanan ', 'nan bir', ' bir ', 'bir im', ' impa', 'impara', 'parator', 'ratorluk', 'torluk ', 'luk kur', ' kurdu', 'kurdu\\n', 'du\\nboz', '\\nbozkir', 'bozkir ', 'kir ge', ' gele', 'gelene', 'lenegin', 'neginden', 'ginden ', 'den ge', ' gelen', 'gelen ', 'len on', ' onlu', 'onlu ', 'lu tes', ' teski', 'teskila', 'kilati', 'lati ', 'ti kul', ' kulla', 'kullana', 'lanarak', 'narak ', 'rak me', ' meri', 'meritok', 'ritokra', 'tokratik', 'ratik ', 'tik li', ' lika', 'likata', 'kata ', 'ta bag', ' bagli', 'bagli ', 'li bir', ' bir ', 'bir or', ' ordu', 'ordu ', 'du mey', ' meyda', 'meydana', 'dana ', 'na ge', ' geti', 'getiren', 'tiren ', 'ren cen', ' cengiz', 'cengiz ', 'giz han', ' han', 'hanin', 'in ', 'in bu', ' buyuk', 'buyuk ', 'yuk bir', ' bir ', 'bir as', ' asker', 'asker ', 'ker o', ' ola', 'olarak', 'larak ']\n"
     ]
    }
   ],
   "source": [
    "def create_threegrams(words):\n",
    "    threegrams = []\n",
    "    for i in range(len(words)-2):\n",
    "        threegram = (words[i], words[i+1], words[i+2])\n",
    "        threegrams.append(\"\".join(list(threegram)))\n",
    "    return threegrams\n",
    "threegrams = create_threegrams(syllables)\n",
    "print(threegrams[:500]) "
   ]
  },
  {
   "cell_type": "code",
   "execution_count": 127,
   "id": "fb63ceb7",
   "metadata": {},
   "outputs": [],
   "source": [
    "threegrams_t = [threegrams]"
   ]
  },
  {
   "cell_type": "code",
   "execution_count": 128,
   "id": "70a29e46",
   "metadata": {},
   "outputs": [],
   "source": [
    "model3 = Word2Vec(threegrams_t, vector_size=100, window=5, min_count=1, workers=4, sg=0)"
   ]
  },
  {
   "cell_type": "code",
   "execution_count": 129,
   "id": "d650a77d",
   "metadata": {},
   "outputs": [],
   "source": [
    "model3.build_vocab(threegrams_t, progress_per=1000)"
   ]
  },
  {
   "cell_type": "code",
   "execution_count": 130,
   "id": "e0a499a1",
   "metadata": {},
   "outputs": [
    {
     "data": {
      "text/plain": [
       "(50000, 7637910)"
      ]
     },
     "execution_count": 130,
     "metadata": {},
     "output_type": "execute_result"
    }
   ],
   "source": [
    "model3.train(threegrams_t, total_examples=model3.corpus_count, epochs=model3.epochs)"
   ]
  },
  {
   "cell_type": "code",
   "execution_count": 131,
   "id": "9395a0c8",
   "metadata": {},
   "outputs": [],
   "source": [
    "model3.save(\"./word2vec_nlp_hw3.model3\")"
   ]
  },
  {
   "cell_type": "code",
   "execution_count": 134,
   "id": "839fa072",
   "metadata": {},
   "outputs": [
    {
     "data": {
      "text/plain": [
       "0.16746677"
      ]
     },
     "execution_count": 134,
     "metadata": {},
     "output_type": "execute_result"
    }
   ],
   "source": [
    "model3.wv.similarity(\"cengiz \", \"giz han\")"
   ]
  },
  {
   "cell_type": "code",
   "execution_count": 135,
   "id": "0ac49fd3",
   "metadata": {},
   "outputs": [
    {
     "name": "stderr",
     "output_type": "stream",
     "text": [
      "/Users/cagla/opt/anaconda3/lib/python3.9/site-packages/sklearn/manifold/_t_sne.py:780: FutureWarning: The default initialization in TSNE will change from 'random' to 'pca' in 1.2.\n",
      "  warnings.warn(\n",
      "/Users/cagla/opt/anaconda3/lib/python3.9/site-packages/sklearn/manifold/_t_sne.py:790: FutureWarning: The default learning rate in TSNE will change from 200.0 to 'auto' in 1.2.\n",
      "  warnings.warn(\n"
     ]
    },
    {
     "data": {
      "image/png": "[encoded data removed]",
      "text/plain": [
       "<Figure size 900x900 with 1 Axes>"
      ]
     },
     "metadata": {},
     "output_type": "display_data"
    }
   ],
   "source": [
    "tsnescatterplot(model3, 'cengiz ', ['giz han', 'asker ','olarak', ' buyuk', 'parator', 'teskila', 'denizin', 'pasifik'])"
   ]
  },
  {
   "cell_type": "code",
   "execution_count": 136,
   "id": "c09b68cc",
   "metadata": {
    "scrolled": true
   },
   "outputs": [
    {
     "data": {
      "text/plain": [
       "[('rin ben', 0.406869113445282),\n",
       " ('kiz so', 0.3948172330856323),\n",
       " ('lat te', 0.3865315616130829),\n",
       " ('lif ve', 0.3849363923072815),\n",
       " ('hukumle', 0.3805915117263794),\n",
       " ('ustlenir', 0.377753883600235),\n",
       " ('romantizm', 0.37199556827545166),\n",
       " ('hi as', 0.3710998296737671),\n",
       " ('se  ', 0.3697696328163147),\n",
       " ('rack o', 0.3690072000026703)]"
      ]
     },
     "execution_count": 136,
     "metadata": {},
     "output_type": "execute_result"
    }
   ],
   "source": [
    "model3.wv.most_similar(\"cengiz \")"
   ]
  },
  {
   "cell_type": "code",
   "execution_count": 138,
   "id": "44e20917",
   "metadata": {},
   "outputs": [
    {
     "data": {
      "text/plain": [
       "[('fik ko', 0.44116273522377014),\n",
       " ('derati', 0.4363101124763489),\n",
       " ('nasli ', 0.43031901121139526),\n",
       " ('fes es', 0.40192973613739014),\n",
       " (' misse', 0.3909081816673279),\n",
       " ('dirgerler', 0.39034366607666016),\n",
       " ('anlayip', 0.38480859994888306),\n",
       " ('sertab ', 0.3810317814350128),\n",
       " ('l ve', 0.37797054648399353),\n",
       " ('eslesme', 0.37779340147972107)]"
      ]
     },
     "execution_count": 138,
     "metadata": {},
     "output_type": "execute_result"
    }
   ],
   "source": [
    "model3.wv.most_similar(\"asker \")"
   ]
  },
  {
   "cell_type": "code",
   "execution_count": 148,
   "id": "7e87455d",
   "metadata": {},
   "outputs": [
    {
     "data": {
      "text/plain": [
       "[('verekli', 0.4123723804950714),\n",
       " ('ve ah', 0.4005851745605469),\n",
       " ('port to', 0.39064010977745056),\n",
       " ('ti\\njus', 0.37841248512268066),\n",
       " ('cun is', 0.3764881193637848),\n",
       " ('deaux', 0.37581926584243774),\n",
       " ('testinde', 0.37369439005851746),\n",
       " ('laslanan', 0.3722316324710846),\n",
       " ('roun ', 0.36243927478790283),\n",
       " ('ki rol', 0.36221837997436523)]"
      ]
     },
     "execution_count": 148,
     "metadata": {},
     "output_type": "execute_result"
    }
   ],
   "source": [
    "model3.wv.most_similar(\"lari\")"
   ]
  },
  {
   "cell_type": "code",
   "execution_count": 143,
   "id": "f06864be",
   "metadata": {},
   "outputs": [
    {
     "data": {
      "text/plain": [
       "[('yordum ', 0.42144888639450073),\n",
       " (' niyet', 0.4183834493160248),\n",
       " (' kemik', 0.40929079055786133),\n",
       " ('bir bas', 0.399245947599411),\n",
       " ('zer a', 0.3916325867176056),\n",
       " ('ruh fut', 0.38856154680252075),\n",
       " ('ger ilk', 0.3852227032184601),\n",
       " ('restlikle', 0.38172122836112976),\n",
       " (' asik', 0.3814218044281006),\n",
       " ('ke el', 0.3750901222229004)]"
      ]
     },
     "execution_count": 143,
     "metadata": {},
     "output_type": "execute_result"
    }
   ],
   "source": [
    "model3.wv.most_similar(\"giz han\")"
   ]
  },
  {
   "cell_type": "code",
   "execution_count": null,
   "id": "dbe4b76e",
   "metadata": {},
   "outputs": [],
   "source": []
  }
 ],
 "metadata": {
  "kernelspec": {
   "display_name": "Python 3 (ipykernel)",
   "language": "python",
   "name": "python3"
  },
  "language_info": {
   "codemirror_mode": {
    "name": "ipython",
    "version": 3
   },
   "file_extension": ".py",
   "mimetype": "text/x-python",
   "name": "python",
   "nbconvert_exporter": "python",
   "pygments_lexer": "ipython3",
   "version": "3.9.13"
  }
 },
 "nbformat": 4,
 "nbformat_minor": 5
}
